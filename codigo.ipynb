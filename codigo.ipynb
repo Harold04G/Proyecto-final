{
 "cells": [
  {
   "cell_type": "code",
   "execution_count": null,
   "id": "2c91d747",
   "metadata": {},
   "outputs": [],
   "source": [
    "# Gráfico: distribución de tipos de cáncer por género\n",
    "st.subheader(\"Distribución por Género y Tipo de Cáncer\")\n",
    "fig1 = px.histogram(df, x=\"Tipo de Cáncer\", color=\"Género\", barmode=\"group\",\n",
    "                    labels={\"count\": \"Número de Pacientes\"})\n",
    "st.plotly_chart(fig1)\n",
    "\n",
    "# Gráfico: Edad vs Supervivencia\n",
    "st.subheader(\"Relación entre Edad y Tiempo de Supervivencia\")\n",
    "fig2 = px.scatter(df, x=\"Edad\", y=\"Tiempo de Supervivencia Meses\", color=\"Estado del Resultado\",\n",
    "                  title=\"Edad vs. Tiempo de Supervivencia\")\n",
    "st.plotly_chart(fig2)\n",
    "\n",
    "# Chi-cuadrado entre tipo de cáncer y género\n",
    "st.subheader(\"Chi-cuadrado: Asociación entre Tipo de Cáncer y Género\")\n",
    "tabla_chi2 = pd.crosstab(df[\"Tipo de Cáncer\"], df[\"Género\"])\n",
    "chi2, p_chi2, dof, _ = stats.chi2_contingency(tabla_chi2)\n",
    "st.write(\"Estadístico Chi-cuadrado:\", round(chi2, 3))\n",
    "st.write(\"Valor p:\", round(p_chi2, 4))\n",
    "if p_chi2 < 0.05:\n",
    "    st.success(\"Existe una asociación significativa entre tipo de cáncer y género.\")\n",
    "else:\n",
    "    st.info(\"No se detecta una asociación significativa.\")\n",
    "\n",
    "# ANOVA entre edad y tipo de cáncer\n",
    "st.subheader(\"ANOVA: Edad entre Tipos de Cáncer\")\n",
    "grupos = [df[df[\"Tipo de Cáncer\"] == tipo][\"Edad\"] for tipo in df[\"Tipo de Cáncer\"].unique()]\n",
    "f_stat, p_anova = stats.f_oneway(*grupos)\n",
    "st.write(\"Estadístico F:\", round(f_stat, 3))\n",
    "st.write(\"Valor p:\", round(p_anova, 4))\n",
    "if p_anova < 0.05:\n",
    "    st.success(\"Existen diferencias significativas en edad entre tipos de cáncer.\")\n",
    "else:\n",
    "    st.info(\"No se encontraron diferencias estadísticamente significativas.\")\n",
    "\n",
    "# Conclusión\n",
    "st.subheader(\"Conclusiones preliminares\")\n",
    "st.markdown(\"\"\"\n",
    "- No hay evidencia de diferencias estadísticamente significativas en la edad según el tipo de cáncer.\n",
    "- Tampoco hay una relación significativa entre el tipo de cáncer y el género de los pacientes.\n",
    "- La mayoría de los pacientes tienen una supervivencia prolongada, con variaciones según edad y estado final.\n",
    "- Se recomienda continuar el análisis con tratamiento, genética y país para completar el estudio epidemiológico.\n",
    "\"\"\")\n"
   ]
  }
 ],
 "metadata": {
  "kernelspec": {
   "display_name": "Python 3",
   "language": "python",
   "name": "python3"
  },
  "language_info": {
   "name": "python",
   "version": "3.13.2"
  }
 },
 "nbformat": 4,
 "nbformat_minor": 5
}
